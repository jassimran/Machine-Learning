{
  "cells": [
    {
      "metadata": {
        "_uuid": "38f096ff2f56194578b435d644749b9aed17855a",
        "_cell_guid": "b88b88d7-433d-49c3-a86d-bfb9c1119ef8"
      },
      "cell_type": "markdown",
      "source": "Welcome to Day 2 of the 5-Day Data Challenge! Today, we're going to be looking at how handle missing values R. Specifically, we're going to:\n\n* Determine if your data is missing at random\n* See what data is missing\n* Guess (impute) the values that are missing\n\nI'll start by introducing each concept or technique, and then you'll get a chance to apply it with an exercise (look for the **Your turn!** section). Ready? Let's get started!\n\n___\n\n**Kernel FAQs:**\n\n* **How do I get started?**   To get started, click the blue \"Fork Notebook\" button in the upper, right hand corner. This will create a private copy of this notebook that you can edit and play with. Once you're finished with the exercises, you can choose to make your notebook public to share with others. :)\n\n* **How do I run the code in this notebook?** Once you fork the notebook, it will open in the notebook editor. From there you can write code in any code cell (the ones with the grey background) and run the code by either 1) clicking in the code cell and then hitting CTRL + ENTER or 2) clicking in the code cell and the clicking on the white \"play\" arrow to the left of the cell. If you want to run all the code in your notebook, you can use the double, \"fast forward\" arrows at the bottom of the notebook editor.\n\n* **How do I save my work?** Any changes you make are saved automatically as you work. You can run all the code in your notebook and save a static version by hitting the blue \"Commit & Run\" button in the upper right hand corner of the editor. \n\n* **How can I find my notebook again later?** The easiest way is to go to your user profile (https://www.kaggle.com/replace-this-with-your-username), then click on the \"Kernels\" tab. All of your kernels will be under the \"Your Work\" tab, and all the kernels you've upvoted will be under the \"Favorites\" tab.\n\n___"
    },
    {
      "metadata": {
        "_uuid": "828e8d9c4a75b4f2c8fedd93cff4e4e4ecc6ef1d",
        "_cell_guid": "4e799b50-b302-45a7-9aac-59eaae5c405e"
      },
      "cell_type": "markdown",
      "source": "# Get our environment set up\n\n___\n\nFirst, let's get our environment set up with all the packages and data we'll need. Make sure to run this cell in your own notebook! :)"
    },
    {
      "metadata": {
        "_kg_hide-output": true,
        "_cell_guid": "cfe9f024-19a8-471b-99c3-b185ffbd624a",
        "_uuid": "99292d74e05343ef0317523cc4b1c9db09956a75",
        "trusted": true,
        "_execution_state": "idle"
      },
      "cell_type": "code",
      "source": "# read in libraries we'll use\nlibrary(tidyverse) # handy utility functions\nlibrary(mice) # package for categorical & numeric imputation\n\n# set seed for reproducibility \nset.seed(5)\n\n# read in our data\npunjab <- read_csv(\"../input/all-census-data/gdp_Punjab2.csv\")\npet_data <- read_csv(\"../input/austin-animal-center-shelter-outcomes-and/aac_shelter_outcomes.csv\")\n\n# seperate GDP & grwoth data \npunjab_gdp <- punjab %>%\n    filter(Description == 'GDP (in Rs. Cr.)')\npunjab_growth <- punjab %>%\n    filter(Description == 'Growth Rate % (YoY)')",
      "execution_count": 21,
      "outputs": []
    },
    {
      "metadata": {
        "_uuid": "7d78eddfbe9dbc4dc2aeb7c9022555e17e06e105",
        "_cell_guid": "69c12ee1-aa00-46fc-b01d-b9cdedda74cf"
      },
      "cell_type": "markdown",
      "source": ""
    },
    {
      "metadata": {
        "_uuid": "a6031a55a03f81fe3772a52017464ea775971a34",
        "_cell_guid": "33429719-ff81-41ff-9030-eeb8d0b45028"
      },
      "cell_type": "markdown",
      "source": "# Is your data MAR (Missing At Random)?\n \n___\n \n\nThe first thing to consider when you're looking at missing data is *why* it's missing. To show why this is so important, let's take a look at this dataset of information about what happened to some animals at a shelter in Austin. "
    },
    {
      "metadata": {
        "_uuid": "0902478171fea562ff51a3e71822939898e9c9c6",
        "trusted": true,
        "_cell_guid": "94769ebe-b89d-42ef-ac3e-afcb1cd586f6"
      },
      "cell_type": "code",
      "source": "# print the first few rows of the pet_data dataset\nhead(pet_data)",
      "execution_count": 16,
      "outputs": []
    },
    {
      "metadata": {
        "_uuid": "4e5435ddaff5315d5612bd5d1e0bb4a1430eea78",
        "_cell_guid": "4b63ba41-5947-44c9-beca-5df98763fd90"
      },
      "cell_type": "markdown",
      "source": "As you can see, we have some missing values in the \"outcome_subtype\" and \"name\" columns. In this instance, it wouldn't make sense to do anything with these particular missing values. For example, the name of the cat in the first row is missing. It's probably missing because it doesn't *have* a name, maybe because it's just two weeks old. The fact that the value is missing tells us something about the value. It's unlikely that it's just missing at random because someone forgot to write it down or something.\n\nLet's look at another dataset. This file has information on the GDP (gross domestic product) of different cities in Punjab. We can see that it also has some missing values."
    },
    {
      "metadata": {
        "_kg_hide-input": true,
        "_kg_hide-output": true,
        "_uuid": "4b15785e6351498e0044be03dcbd4c1df15569d4",
        "trusted": true,
        "_cell_guid": "0c874c67-0bbf-4e6e-ab3a-adaa2dcfac2b"
      },
      "cell_type": "code",
      "source": "# print the first few rows of the punjab_gdp dataset\nhead(punjab_gdp)",
      "execution_count": 24,
      "outputs": []
    },
    {
      "metadata": {
        "_uuid": "9d25c4fe59cfd28daf91341d4f2d4a9dcd6442e5",
        "_cell_guid": "a8e4f164-7223-454d-a2a6-4e80ea65a53a"
      },
      "cell_type": "markdown",
      "source": "In this case, these values are probably missing just because they weren't recorded for some years. It seems likely that we could make a pretty good guess about what they should be based on the rest of the data. They're (probably) not missing because of whatever the underlying value is. In this case, we can say that our data is *missing at random*.\n\nThere's no statistical way to determine if you data is missing at random or not. This is one of those cases where the solution is just to spend some time getting to know your data and how it was generated. (If you still find the distinction confusing, you're not alone! You might like [this paper](https://www.ncbi.nlm.nih.gov/pmc/articles/PMC4121561/). It's written as a little play between a medical researcher and a statistician. It's very readable.)\n"
    },
    {
      "metadata": {
        "_uuid": "088f542354fba251702867daf68a82c58cb9df86",
        "_cell_guid": "8d5683e2-fc3a-4696-a6f8-7b9c058c5e18"
      },
      "cell_type": "markdown",
      "source": "## Your turn!\n___\n\nTake a look at the `punjab_growth` dataset and decide if you think any values that are missing are missing at random. If you're looking for more information or practice with figuring out why data might be missing, I talk more about different types of missing data [in this notebook](https://www.kaggle.com/rtatman/data-cleaning-challenge-handling-missing-values). "
    },
    {
      "metadata": {
        "_uuid": "1c01213d262ce7c6524c345f5776434444dba210",
        "trusted": true,
        "_cell_guid": "9756a95d-e4b5-4408-85cd-87afc57546e3"
      },
      "cell_type": "code",
      "source": "# your code here :)\npunjab_gro <- read_csv(\"../input/all-census-data/gdp_Punjab1.csv\")\n\npunjab_grow <- punjab_gro %>%\n    filter(Description == 'GDP (in Rs. Cr.)')\n\n",
      "execution_count": 25,
      "outputs": []
    },
    {
      "metadata": {
        "_uuid": "d22ce342e123f60c929cb2e6ca6083b932a866ee",
        "_cell_guid": "548ed200-e679-4674-b87a-596ba3a6d906"
      },
      "cell_type": "markdown",
      "source": ""
    },
    {
      "metadata": {
        "_uuid": "599a7d480be2fe4446245ba2c5a5c82269e47593",
        "_cell_guid": "c1f9645c-7900-40bf-aa42-b2257dd79e06"
      },
      "cell_type": "markdown",
      "source": "# Visualize your missing data\n___\n\nSo far we've just looked at a couple of rows of our data. While this works with pretty small datasets, it doesn't scale well and it can be hard to pick out `NA`'s with your eyes. I personally  find it helpful to visualize missing values if I suspect they might exist. This can help you see how much data is missing, and also whether some particular columns or rows are very likely to have missing values. First, we need to do a little bit of data munging to get our data in the same we want it in. (If you're not familiar with the `%>%` symbol or some of these functions, I talk more about these techniques [in this notebook](https://www.kaggle.com/rtatman/manipulating-data-with-the-tidyverse/).)"
    },
    {
      "metadata": {
        "_uuid": "3f1e5191753f4134798172a8927ed7933c32dfd9",
        "trusted": true,
        "_cell_guid": "bb33e2ad-7923-4060-a686-bfc96dac278c"
      },
      "cell_type": "code",
      "source": "# create a data frame with information on whether the value in each cell is missing\nmissing_by_column <- punjab_gdp %>% \n    is.na %>% # check if each cell is na\n    as_data_frame %>% # convert to data-frame\n    mutate(row_number = 1:nrow(.)) %>% # add a column with the row number\n    gather(variable, is_missing, -row_number) # turn wide data into narrow data ",
      "execution_count": 27,
      "outputs": []
    },
    {
      "metadata": {
        "_uuid": "f868ea742a6e7af21f7a2a54f6404770136b42d9",
        "_cell_guid": "a6a6239f-2c18-4ce3-a58f-2c1c6cdc0f32"
      },
      "cell_type": "markdown",
      "source": "And now we can plot it and visually see where our data is missing! (With a shoutout to njtierney, whose [excellent color-blind friendly chart aesthetic I'm borrowing here](https://www.r-bloggers.com/ggplot-your-missing-data-2/).) "
    },
    {
      "metadata": {
        "_uuid": "701229e071db8b2140684ef1c836b5bd44ab51a2",
        "trusted": true,
        "_cell_guid": "0df10267-ddde-4955-8dd9-7edef99dd837"
      },
      "cell_type": "code",
      "source": "# Plot the missing values in our data frame, with a good-looking theme\nggplot(missing_by_column, aes(x = variable, y = row_number, fill = is_missing)) +\n    geom_tile() + \n    theme_minimal() +\n    scale_fill_grey(name = \"\",\n                    labels = c(\"Present\",\"Missing\")) +\n    theme(axis.text.x  = element_text(angle=45, vjust=0.5, size = 8)) + \n    labs(x = \"Variables in Dataset\",\n         y = \"Rows / observations\")",
      "execution_count": 28,
      "outputs": []
    },
    {
      "metadata": {
        "_uuid": "70bd6d4e0732fe86b8b28444db8d471e4d9e9775",
        "_cell_guid": "e6d42bfd-f3c9-4c41-bc93-b673d87fb9cc"
      },
      "cell_type": "markdown",
      "source": "You can read this chart a little bit like your dataframe. The rows of the chart are the rows of your dataframe, and the columns are the columns. Each cell represents a single cell in your dataframe, and its color tells you if it's missing or not. [There are a bunch of other ways to visualize missing data](https://cran.r-project.org/web/packages/naniar/vignettes/naniar-visualisation.html), but this is the one I tend to prefer becuase of how parallel it is to the dataframe itself. \n\nLooking at our chart, we can see that three cities--Barnala, Sahibzada Ajit Singh Nagar and Taran Taran--all have missing data and that they overlap in which rows are missing. (Since each row is a year, this tells us that some of the same years are missing from each city). \n\nWe can also see that our dataset is pretty small.  One way to handle missing values is to only look at \"complete cases\", or the rows you don't have any missing values for. In this case, though, that means that we'd lose almost a 7th of our data! In the next section, we'll discuss a  technique for filling in those missing values instead of tossing out rows. "
    },
    {
      "metadata": {
        "_uuid": "1697ee8e2bba22184fc1ea3993d1a2247dc2a796",
        "_cell_guid": "4a14f47f-9fad-4218-837f-fa05fd609e96"
      },
      "cell_type": "markdown",
      "source": "## Your turn!\n___\n\nTry your hand at plotting the missing values from the  `punjab_growth` dataset. Do you notice any patterns? "
    },
    {
      "metadata": {
        "_uuid": "617dae88ead6a44dc37da5e2c0850b8a7d38a022",
        "trusted": true,
        "_cell_guid": "a60b431e-66c0-4042-acba-7a667c15ee67"
      },
      "cell_type": "code",
      "source": "head(punjab_growth)\n# create a data frame with information on whether the value in each cell is missing\nmissing_by_column <- punjab_growth %>% \n    is.na %>% # check if each cell is na\n    as_data_frame %>% # convert to data-frame\n    mutate(row_number = 1:nrow(.)) %>% # add a column with the row number\n    gather(variable, is_missing, -row_number) # turn wide data into narrow data \n\n# Plot the missing values in our data frame, with a good-looking theme\nggplot(missing_by_column, aes(x = variable, y = row_number, fill = is_missing)) +\n    geom_tile() + \n    theme_minimal() +\n    scale_fill_grey(name = \"\",\n                    labels = c(\"Present\",\"Missing\")) +\n    theme(axis.text.x  = element_text(angle=45, vjust=0.5, size = 8)) + \n    labs(x = \"Variables in Dataset\",\n         y = \"Rows / observations\")",
      "execution_count": 37,
      "outputs": []
    },
    {
      "metadata": {
        "_uuid": "0300fdbaf47c0c0dbfc75b5ab485c755cc3e5940",
        "_cell_guid": "6023d342-360a-4340-aa7a-24f89c1cefce"
      },
      "cell_type": "markdown",
      "source": "# Guessing what the missing values should be\n___\nNow that we’ve determined that we have randomly missing values, the next step is to try and figure out what they *should* be. \n\n> **Imputation**: The fancy math term for guessing what the value of a missing cell in your dataset should actually be. \n\nTo do the imputation we're not going to actually look at each missing value and take our best guess. Instead, we're going to automate the process using MICE. Not the little squeaky rodents, but [Multiple Imputation by Chained Equations](https://www.ncbi.nlm.nih.gov/pmc/articles/PMC3074241/), specifically the version implemented in [the mice R package](https://cran.r-project.org/web/packages/mice/mice.pdf). In the words of the package authors, Stef van Buuren and Karin Groothuis-Oudshoorn:  \n\n> **The mice package implements a method to deal with missing data. The package creates multiple imputations (replacement values) for multivariate missing data. The method is based on Fully Conditional Specification, where each incomplete variable is imputed by a separate model. The MICE algorithm can impute mixes of continuous, binary, unordered categorical and ordered categorical data. In addition, MICE can impute continuous two-level data, and maintain consistency between imputations by means of passive imputation.**\n\nSince that's a lot of math-y jargon you may or may not have run into in the past, let's break it down bit by bit so that you can get a better idea of what's going on here.\n\n>**The package creates multiple imputations (replacement values) for multivariate missing data.**\n* This basically means that, for every missing value, this function will provide several different guesses for what it could be. This gives us a better idea of the range of possible values that our variables could take. For example, if you're imputing someone's salary, your guesses may range over several thousand units. On the other hand, if you're guessing their height in feet, your guesses will probably range over a couple units. The possible range of values depends on the range of the values we *did* observe. Then, once you've imputed however-many values, you create that many different versions of your dataset and then pool across them, generally by taking the mean or median for numeric variables and the most common class for categorical variables. (If you're curious about the details, you can check out some of the papers in [this bibliography](http://www.stefvanbuuren.nl/mi/MI.html).)\n\n>**The method is based on Fully Conditional Specification, where each incomplete variable is imputed by a separate model. **\n* This means that we're going to guess the value for each missing case separately. The other common choice for imputation is called \"Joint Modelling\", which means that you make your guesses for two different variables at the same. For instance, if you were imputing both salary and height information for someone, with Fully Conditional Specification you'd guess one and then the other. With Joint Modeling, however, you'd generate your guess for both the salary and at the same time. In both cases, the guesses depend on each each. So if you have reason to believe that taller people have higher salaries, you will probably impute a higher salary if you also impute a taller height. In Fully Conditional Specification, you might guess salary first and then height, and you might guess a taller height if you have a larger salary. In Joint Modeling, you'll guess the salary and height at the same time, so they'll both be higher or lower together.\n\n> **The MICE algorithm can impute mixes of continuous, binary, unordered categorical and ordered categorical data. In addition, MICE can impute continuous two-level data, and maintain consistency between imputations by means of passive imputation.**\n* This bit just means that this particular function can handle pretty much any kind of data, not just numbers. This can make MICE a handy one-stop-shop for imputing all your missing data. (Assuming it's missing at random, of course.) \n\nOk, now that you know the general theory, let's get to the specifics of how to actually use the function. \n\nThere are a lot of different parameters you can tweak when using the `mice()` function. The easiest way to set them, however, is to use the parameters from an imputation run where you don’t actually do any imputation. This creates an empty model (one that doesn’t have any imputed values) with reasonable generic values. Then you can use the parameters from your empty model in a new imputation model that actually runs several times. Finally, you use the `complete()` function to pick one value for each cell you’re imputing. This gives you a copy of your original dataset with the `NA` values replaced with imputed values."
    },
    {
      "metadata": {
        "_kg_hide-output": true,
        "_uuid": "88c8e4a2425b8f48d2eda8c0c840d71d1915e545",
        "trusted": true,
        "_cell_guid": "431cff80-518d-42ea-8f6d-37046b4b5127"
      },
      "cell_type": "code",
      "source": "# initialize an empty model to take the parameters from\nempty_model <- mice(punjab_gdp, maxit=0) \nmethod <- empty_model$method\npredictorMatrix <- empty_model$predictorMatrix\n\n# first make a bunch of guesses...\nimputed_data <- mice(punjab_gdp, method, predictorMatrix, m=5)\n# then pick one for each variable\nimputed_data <- complete(imputed_data)",
      "execution_count": 31,
      "outputs": []
    },
    {
      "metadata": {
        "_uuid": "98918f03714f6a7c55543be5b54d0e02e267a487",
        "_cell_guid": "a127c5b7-a7a2-4ae6-a07a-5d425fea7a91"
      },
      "cell_type": "markdown",
      "source": "Let's take a look at our data to make sure it looks reasonable. "
    },
    {
      "metadata": {
        "_uuid": "e791ee7d6c70248e00bef28f22b18e9e534274b0",
        "trusted": true,
        "_cell_guid": "1eecce5b-1e0d-4e50-b2ee-44b801ad7cb6"
      },
      "cell_type": "code",
      "source": "# take a look at out dataset with the values imputed\nhead(imputed_data)",
      "execution_count": 32,
      "outputs": []
    },
    {
      "metadata": {
        "_uuid": "15710b1f3fffc0e616932663280cd101ed52d9ca",
        "_cell_guid": "3e7fd470-8b0e-4193-910c-4b1f54795901"
      },
      "cell_type": "markdown",
      "source": "Looks good to me! The final step is to do a quick graph of our imputed data to make sure that we actually did get rid of all the `NA` values."
    },
    {
      "metadata": {
        "_uuid": "c8c179d25f679ce1cb3a5ed00e5f22930dbeb633",
        "trusted": true,
        "_cell_guid": "7470e362-d33d-40f1-a130-3d99a04dafcf"
      },
      "cell_type": "code",
      "source": "# create a data frame with information on whether the value in each cell is missing\nmissing_by_column <- imputed_data %>% \n    is.na %>% # check if each cell is na\n    as_data_frame %>% # convert to data-frame\n    mutate(row_number = 1:nrow(.)) %>% # add a coumn with the row number\n    gather(variable, is_missing, -row_number) # turn wide data into narrow data \n\n# Plot the missing values in our data frame, with a good-looking theme\nggplot(missing_by_column, aes(x = variable, y = row_number, fill = is_missing)) +\n    geom_tile() + \n    theme_minimal() +\n    scale_fill_grey(name = \"\",\n                    labels = c(\"Present\",\"Missing\")) +\n    theme(axis.text.x  = element_text(angle=45, vjust=0.5, size = 8)) + \n    labs(x = \"Variables in Dataset\",\n         y = \"Rows / observations\")",
      "execution_count": 33,
      "outputs": []
    },
    {
      "metadata": {
        "_uuid": "b1b2209a5116ad1471bab21c09b26e02321bad45",
        "_cell_guid": "f9484dce-692f-48d6-8258-fe79fe77dc82"
      },
      "cell_type": "markdown",
      "source": "And all the `NA` values have been sucessfully imputed! Now try it for yourself. "
    },
    {
      "metadata": {
        "_uuid": "a37f5437ced53cb9f8570c3a6004b38722ceca69",
        "_cell_guid": "b89dd017-4783-4e95-8b8c-65501328a36a"
      },
      "cell_type": "markdown",
      "source": "## Your turn!\n____\n\nFor an extra challenge, you can spend some time investigating the various visualizations that are avalible for looking at the different imputed versions of the dataset. [This kernel has a nice introduction to some of them.](https://www.kaggle.com/captcalculator/imputing-missing-data-with-the-mice-package-in-r)"
    },
    {
      "metadata": {
        "_uuid": "3543d14de6050ebc935f44798ebbf13b40ab8bd2",
        "trusted": true,
        "_cell_guid": "a2e70326-a168-4c0a-9e60-1f622ffc3569"
      },
      "cell_type": "code",
      "source": "# your code here :)\n# initialize an empty model to take the parameters from\nempty_model <- mice(punjab_growth, maxit=0) \nmethod <- empty_model$method\npredictorMatrix <- empty_model$predictorMatrix\n\n# first make a bunch of guesses...\nimputed_data <- mice(punjab_growth, method, predictorMatrix, m=5)\n# then pick one for each variable\nimputed_data <- complete(imputed_data)\n\n# create a data frame with information on whether the value in each cell is missing\nmissing_by_column <- imputed_data %>% \n    is.na %>% # check if each cell is na\n    as_data_frame %>% # convert to data-frame\n    mutate(row_number = 1:nrow(.)) %>% # add a coumn with the row number\n    gather(variable, is_missing, -row_number) # turn wide data into narrow data \n\n# Plot the missing values in our data frame, with a good-looking theme\nggplot(missing_by_column, aes(x = variable, y = row_number, fill = is_missing)) +\n    geom_tile() + \n    theme_minimal() +\n    scale_fill_grey(name = \"\",\n                    labels = c(\"Present\",\"Missing\")) +\n    theme(axis.text.x  = element_text(angle=45, vjust=0.5, size = 8)) + \n    labs(x = \"Variables in Dataset\",\n         y = \"Rows / observations\")",
      "execution_count": null,
      "outputs": []
    },
    {
      "metadata": {
        "_uuid": "53c977c279f67f1c2a610dc486b4919a81a8216f",
        "_cell_guid": "ea43a2b5-d73f-4798-a22e-2bff3540c1c9"
      },
      "cell_type": "markdown",
      "source": "# And that's it for Day 2!\n___\n\nAnd that's it for today! If you have any questions, be sure to post them in the comments below or [on the forums](https://www.kaggle.com/questions-and-answers).\n\nRemember that your notebook is private by default, and in order to share it with other people or ask for help with it, you'll need to make it public. First, you'll need to save a version of your notebook that shows your current work by hitting the \"Commit & Run\" button. (Your work is saved automatically, but versioning your work lets you go back and look at what it was like at the point you saved it. It also lets you share a nice compiled notebook instead of just the raw code.) Then, once your notebook is finished running, you can go to the Settings tab in the panel to the left (you may have to expand it by hitting the [<] button next to the \"Commit & Run\" button) and setting the \"Visibility\" dropdown to \"Public\"."
    }
  ],
  "metadata": {
    "kernelspec": {
      "display_name": "R",
      "language": "R",
      "name": "ir"
    },
    "language_info": {
      "mimetype": "text/x-r-source",
      "name": "R",
      "pygments_lexer": "r",
      "version": "3.4.2",
      "file_extension": ".r",
      "codemirror_mode": "r"
    }
  },
  "nbformat": 4,
  "nbformat_minor": 1
}